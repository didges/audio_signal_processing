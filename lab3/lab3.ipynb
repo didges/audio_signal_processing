{
 "cells": [
  {
   "cell_type": "markdown",
   "metadata": {},
   "source": [
    "## Лабораторная работа №3\n",
    "Цель работы – практическое применение библиотеки символьных вычислений Python (SymPy) для решения задач дискретной математики и математической логики.\n",
    "<br>\n",
    "Вариант 11"
   ]
  },
  {
   "cell_type": "markdown",
   "metadata": {},
   "source": [
    "### 1 - Диофантовое уравнение\n",
    "$$ 3211x+ 3382y = -95 $$"
   ]
  },
  {
   "cell_type": "code",
   "execution_count": 1,
   "metadata": {},
   "outputs": [
    {
     "name": "stdout",
     "output_type": "stream",
     "text": [
      "Solution:\n",
      "\t x = 178*t_0 - 395\n",
      "\t y = 375 - 169*t_0\n"
     ]
    }
   ],
   "source": [
    "from sympy.solvers.diophantine import diophantine\n",
    "from sympy import symbols\n",
    "x, y = symbols('x y')\n",
    "sol = tuple(diophantine(3211*x + 3382*y + 95))[0]\n",
    "print(f\"Solution:\\n\\t x = {sol[0]}\\n\\t y = {sol[1]}\")"
   ]
  },
  {
   "cell_type": "markdown",
   "metadata": {},
   "source": [
    "### Имея открытую часть ключа RSA найти соответствующую закрытую часть и расшифровать кодированное слово.\n",
    "\n",
    "Русское слово из четырех букв закодировано при помощи алгоритма RSA открытым ключом (e = 3,m = 33).\n",
    "Шифрованное сообщение имеет вид (3; 8; 24; 32). Подберите закрытую часть ключа и прочитайте исходное слово.\n",
    "Буквам русского алфавита соответсвуют числа в диапазоне от 2 до 32 (исключены буквы “e” и “ъ”)."
   ]
  },
  {
   "cell_type": "code",
   "execution_count": 2,
   "metadata": {},
   "outputs": [
    {
     "name": "stdout",
     "output_type": "stream",
     "text": [
      "Solition = заря\n"
     ]
    }
   ],
   "source": [
    "from sympy.crypto.crypto import rsa_private_key, decipher_rsa\n",
    "\n",
    "key = rsa_private_key(33, 3)\n",
    "\n",
    "symb = [3, 8, 24, 32]\n",
    "[decipher_rsa(i, key) for i in symb]\n",
    "alp = ['а', 'б', 'в', 'г', 'д', 'е', 'ж', 'з', 'и', 'й', 'к', 'л', 'м', 'н', 'о', 'п',\n",
    "      'р', 'с', 'т', 'у', 'ф', 'х', 'ц', 'ч', 'ш', 'щ', 'ы', 'ь', 'э', 'ю', 'я']\n",
    "sol = [alp[decipher_rsa(i, key)-2] for i in symb]\n",
    "print(f\"Solition = {''.join(sol)}\")"
   ]
  },
  {
   "cell_type": "markdown",
   "metadata": {},
   "source": [
    "### Преобразование булевой функции\n",
    "Вариант 41<br>\n",
    " f(x, y, z) = ((z or x) xor y) or ((yx xor zx)) "
   ]
  },
  {
   "cell_type": "code",
   "execution_count": 3,
   "metadata": {},
   "outputs": [],
   "source": [
    "from sympy.logic.boolalg import *"
   ]
  },
  {
   "cell_type": "code",
   "execution_count": 4,
   "metadata": {},
   "outputs": [
    {
     "name": "stdout",
     "output_type": "stream",
     "text": [
      "x = False, y = False, z = False, f = False\n",
      "x = False, y = False, z = True, f = True\n",
      "x = False, y = True, z = False, f = True\n",
      "x = False, y = True, z = True, f = False\n",
      "x = True, y = False, z = False, f = True\n",
      "x = True, y = False, z = True, f = True\n",
      "x = True, y = True, z = False, f = True\n",
      "x = True, y = True, z = True, f = False\n"
     ]
    }
   ],
   "source": [
    "for i in [False, True]:\n",
    "    for j in [False, True]:\n",
    "        for k in [False, True]:\n",
    "            x, y, z = i, j, k\n",
    "            val = Or(Xor(Or(z, x), y), Xor(And(y, x), And(z, x)))\n",
    "            print(f\"x = {x}, y = {y}, z = {z}, f = {val}\")"
   ]
  },
  {
   "cell_type": "code",
   "execution_count": null,
   "metadata": {},
   "outputs": [],
   "source": []
  }
 ],
 "metadata": {
  "kernelspec": {
   "display_name": "Python 3",
   "language": "python",
   "name": "python3"
  },
  "language_info": {
   "codemirror_mode": {
    "name": "ipython",
    "version": 3
   },
   "file_extension": ".py",
   "mimetype": "text/x-python",
   "name": "python",
   "nbconvert_exporter": "python",
   "pygments_lexer": "ipython3",
   "version": "3.7.6"
  }
 },
 "nbformat": 4,
 "nbformat_minor": 4
}
